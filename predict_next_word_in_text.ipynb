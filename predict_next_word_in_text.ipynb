{
  "nbformat": 4,
  "nbformat_minor": 0,
  "metadata": {
    "colab": {
      "provenance": []
    },
    "kernelspec": {
      "name": "python3",
      "display_name": "Python 3"
    },
    "language_info": {
      "name": "python"
    },
    "accelerator": "GPU",
    "gpuClass": "standard"
  },
  "cells": [
    {
      "cell_type": "code",
      "execution_count": 2,
      "metadata": {
        "id": "uQDtHeswOA_c"
      },
      "outputs": [],
      "source": [
        "from sklearn.model_selection import train_test_split"
      ]
    },
    {
      "cell_type": "code",
      "source": [
        "import numpy as np \n",
        "import tensorflow as tf \n",
        "from tensorflow.keras.layers import Dense , SimpleRNN, GRU,LSTM, Flatten ,Dropout, Input, Activation\n",
        "from tensorflow.keras.models import Sequential\n",
        "from tensorflow.keras.utils import to_categorical, plot_model\n",
        "from tensorflow.keras.datasets import mnist\n",
        "import re\n",
        "from nltk.tokenize import word_tokenize,sent_tokenize\n",
        "from nltk.corpus import stopwords\n",
        "import nltk\n",
        "nltk.download('punkt')"
      ],
      "metadata": {
        "colab": {
          "base_uri": "https://localhost:8080/"
        },
        "id": "4SSrFtAGPYPA",
        "outputId": "8993d3fa-9f67-4930-a112-34e4fd03853e"
      },
      "execution_count": 3,
      "outputs": [
        {
          "output_type": "stream",
          "name": "stderr",
          "text": [
            "[nltk_data] Downloading package punkt to /root/nltk_data...\n",
            "[nltk_data]   Package punkt is already up-to-date!\n"
          ]
        },
        {
          "output_type": "execute_result",
          "data": {
            "text/plain": [
              "True"
            ]
          },
          "metadata": {},
          "execution_count": 3
        }
      ]
    },
    {
      "cell_type": "code",
      "source": [
        "text= open(\"/content/computer science.txt\", encoding='utf-8')\n",
        "text=text.read()"
      ],
      "metadata": {
        "id": "i4Abq_uOPYRk"
      },
      "execution_count": 4,
      "outputs": []
    },
    {
      "cell_type": "code",
      "source": [
        "text = re.sub('[^a-zA-Z.,]',' ', text).lower()\n",
        "sents=sent_tokenize(text)"
      ],
      "metadata": {
        "id": "cratyhuZPYWf"
      },
      "execution_count": 5,
      "outputs": []
    },
    {
      "cell_type": "code",
      "source": [
        "import gensim.downloader as api\n",
        "\n",
        "wv = api.load('word2vec-google-news-300')"
      ],
      "metadata": {
        "id": "L452Cns2YbNx"
      },
      "execution_count": 6,
      "outputs": []
    },
    {
      "cell_type": "code",
      "source": [
        "\n",
        "words=word_tokenize(text.lower())\n",
        "len(words)"
      ],
      "metadata": {
        "colab": {
          "base_uri": "https://localhost:8080/"
        },
        "id": "02ZndyB9PYaJ",
        "outputId": "8f28fd5b-f8a8-4553-b453-e67ebf2bbcbd"
      },
      "execution_count": 7,
      "outputs": [
        {
          "output_type": "execute_result",
          "data": {
            "text/plain": [
              "32541"
            ]
          },
          "metadata": {},
          "execution_count": 7
        }
      ]
    },
    {
      "cell_type": "code",
      "source": [
        "\n",
        "unique =set(words)\n",
        "unique =list(unique)\n"
      ],
      "metadata": {
        "id": "xMm6cyIwUmrN"
      },
      "execution_count": 8,
      "outputs": []
    },
    {
      "cell_type": "code",
      "source": [
        "len(unique)"
      ],
      "metadata": {
        "colab": {
          "base_uri": "https://localhost:8080/"
        },
        "id": "-AWgDSu4XmCI",
        "outputId": "78fed96a-1da2-483d-d523-6d326770932d"
      },
      "execution_count": 9,
      "outputs": [
        {
          "output_type": "execute_result",
          "data": {
            "text/plain": [
              "4953"
            ]
          },
          "metadata": {},
          "execution_count": 9
        }
      ]
    },
    {
      "cell_type": "code",
      "source": [
        "data=[]\n",
        "for i in words:\n",
        "  if i in wv.vocab.keys():\n",
        "    data.append(wv[i])\n",
        "  else:\n",
        "    data.append(np.zeros(300))\n",
        "\n",
        "data=np.array(data)\n"
      ],
      "metadata": {
        "id": "ZJhB5oDVLnEg"
      },
      "execution_count": 10,
      "outputs": []
    },
    {
      "cell_type": "code",
      "source": [
        "x=[]\n",
        "y=[]\n",
        "for i in range (data.shape[0]):\n",
        "  if data.shape[0]<i+6:\n",
        "    break\n",
        "  x.append(np.add(data[i+3],data[i+4],np.add(data[i],data[i+1],data[i+2])))\n",
        "  y.append(unique.index(words[i+5]))\n",
        "\n",
        "  "
      ],
      "metadata": {
        "id": "rdw3W_xEfrA2"
      },
      "execution_count": 11,
      "outputs": []
    },
    {
      "cell_type": "code",
      "source": [
        "len(x),len(y)"
      ],
      "metadata": {
        "colab": {
          "base_uri": "https://localhost:8080/"
        },
        "id": "ioLuCOAiM5hT",
        "outputId": "86259fc0-7f70-4426-e4fb-7d0225e9f5fd"
      },
      "execution_count": 12,
      "outputs": [
        {
          "output_type": "execute_result",
          "data": {
            "text/plain": [
              "(32536, 32536)"
            ]
          },
          "metadata": {},
          "execution_count": 12
        }
      ]
    },
    {
      "cell_type": "code",
      "source": [
        "x=np.array(x)\n",
        "y=to_categorical(y)\n",
        "x.shape,y.shape"
      ],
      "metadata": {
        "colab": {
          "base_uri": "https://localhost:8080/"
        },
        "id": "Pnl3GsAOks0X",
        "outputId": "df99f60a-1915-4d22-f67a-86cc348d1120"
      },
      "execution_count": 13,
      "outputs": [
        {
          "output_type": "execute_result",
          "data": {
            "text/plain": [
              "((32536, 300), (32536, 4953))"
            ]
          },
          "metadata": {},
          "execution_count": 13
        }
      ]
    },
    {
      "cell_type": "code",
      "source": [
        "x_train,x_test ,y_train,y_test =train_test_split(x,y,test_size=.03,shuffle=True)"
      ],
      "metadata": {
        "id": "6_Gb94yBwFlv"
      },
      "execution_count": 14,
      "outputs": []
    },
    {
      "cell_type": "code",
      "source": [
        "x_train=np.array(x_train)\n",
        "x_test=np.array(x_test)\n",
        "y_train=np.array(y_train)\n",
        "y_test=np.array(y_test)\n"
      ],
      "metadata": {
        "id": "oSWlmk_TwhYZ"
      },
      "execution_count": 15,
      "outputs": []
    },
    {
      "cell_type": "code",
      "source": [
        "x_train.shape"
      ],
      "metadata": {
        "colab": {
          "base_uri": "https://localhost:8080/"
        },
        "id": "hC02UqvLQX8C",
        "outputId": "0e83a9ba-5920-40a6-f308-11f5502d35f7"
      },
      "execution_count": 16,
      "outputs": [
        {
          "output_type": "execute_result",
          "data": {
            "text/plain": [
              "(31559, 300)"
            ]
          },
          "metadata": {},
          "execution_count": 16
        }
      ]
    },
    {
      "cell_type": "code",
      "source": [
        "input_shape = ( 300,1)\n",
        "batch_size = 256\n",
        "units = 100\n",
        "dropout = 0.2"
      ],
      "metadata": {
        "id": "zOwTZ87FQVKG"
      },
      "execution_count": 17,
      "outputs": []
    },
    {
      "cell_type": "code",
      "source": [
        "model = Sequential()\n",
        "model.add(LSTM(units=units,\n",
        "                    dropout=dropout,\n",
        "                    input_shape=input_shape))\n",
        "model.add(Dense(4953))\n",
        "model.add(Activation('softmax'))\n",
        "model.summary()"
      ],
      "metadata": {
        "colab": {
          "base_uri": "https://localhost:8080/"
        },
        "id": "yl2QC1tZQlO2",
        "outputId": "7b1b43fa-bf2c-4e6b-8bd2-7e0c2fe9c841"
      },
      "execution_count": 18,
      "outputs": [
        {
          "output_type": "stream",
          "name": "stdout",
          "text": [
            "Model: \"sequential\"\n",
            "_________________________________________________________________\n",
            " Layer (type)                Output Shape              Param #   \n",
            "=================================================================\n",
            " lstm (LSTM)                 (None, 100)               40800     \n",
            "                                                                 \n",
            " dense (Dense)               (None, 4953)              500253    \n",
            "                                                                 \n",
            " activation (Activation)     (None, 4953)              0         \n",
            "                                                                 \n",
            "=================================================================\n",
            "Total params: 541,053\n",
            "Trainable params: 541,053\n",
            "Non-trainable params: 0\n",
            "_________________________________________________________________\n"
          ]
        }
      ]
    },
    {
      "cell_type": "code",
      "source": [
        "# enable this if pydot can be installed\n",
        "# pip install pydot\n",
        "#plot_model(model, to_file='rnn-mnist.png', show_shapes=True)\n",
        "\n",
        "# loss function for one-hot vector\n",
        "# use of sgd optimizer\n",
        "# accuracy is good metric for classification tasks\n",
        "#model.compile(loss='categorical_crossentropy',optimizer='sgd',metrics=['accuracy'])\n",
        "model.compile(optimizer=tf.keras.optimizers.Adam(learning_rate=1e-3),loss=tf.keras.losses.CategoricalCrossentropy())\n",
        "# train the network\n",
        "model.fit(x_train, y_train, epochs=300, batch_size=batch_size,)\n"
      ],
      "metadata": {
        "id": "5igShq4cPDrd",
        "colab": {
          "base_uri": "https://localhost:8080/"
        },
        "outputId": "ac027b69-352e-451b-a41a-ba97d00580e2"
      },
      "execution_count": 19,
      "outputs": [
        {
          "output_type": "stream",
          "name": "stdout",
          "text": [
            "Epoch 1/300\n",
            "124/124 [==============================] - 10s 28ms/step - loss: 6.9843\n",
            "Epoch 2/300\n",
            "124/124 [==============================] - 3s 25ms/step - loss: 6.4444\n",
            "Epoch 3/300\n",
            "124/124 [==============================] - 3s 25ms/step - loss: 6.4276\n",
            "Epoch 4/300\n",
            "124/124 [==============================] - 3s 25ms/step - loss: 6.4220\n",
            "Epoch 5/300\n",
            "124/124 [==============================] - 3s 27ms/step - loss: 6.4179\n",
            "Epoch 6/300\n",
            "124/124 [==============================] - 3s 25ms/step - loss: 6.4159\n",
            "Epoch 7/300\n",
            "124/124 [==============================] - 3s 25ms/step - loss: 6.4125\n",
            "Epoch 8/300\n",
            "124/124 [==============================] - 3s 25ms/step - loss: 6.4104\n",
            "Epoch 9/300\n",
            "124/124 [==============================] - 3s 27ms/step - loss: 6.4080\n",
            "Epoch 10/300\n",
            "124/124 [==============================] - 3s 26ms/step - loss: 6.4058\n",
            "Epoch 11/300\n",
            "124/124 [==============================] - 3s 26ms/step - loss: 6.4039\n",
            "Epoch 12/300\n",
            "124/124 [==============================] - 3s 26ms/step - loss: 6.4036\n",
            "Epoch 13/300\n",
            "124/124 [==============================] - 3s 28ms/step - loss: 6.4010\n",
            "Epoch 14/300\n",
            "124/124 [==============================] - 3s 26ms/step - loss: 6.3991\n",
            "Epoch 15/300\n",
            "124/124 [==============================] - 3s 26ms/step - loss: 6.3979\n",
            "Epoch 16/300\n",
            "124/124 [==============================] - 3s 26ms/step - loss: 6.3950\n",
            "Epoch 17/300\n",
            "124/124 [==============================] - 3s 27ms/step - loss: 6.3921\n",
            "Epoch 18/300\n",
            "124/124 [==============================] - 3s 26ms/step - loss: 6.3891\n",
            "Epoch 19/300\n",
            "124/124 [==============================] - 3s 26ms/step - loss: 6.3850\n",
            "Epoch 20/300\n",
            "124/124 [==============================] - 3s 26ms/step - loss: 6.3796\n",
            "Epoch 21/300\n",
            "124/124 [==============================] - 3s 28ms/step - loss: 6.3739\n",
            "Epoch 22/300\n",
            "124/124 [==============================] - 3s 26ms/step - loss: 6.3632\n",
            "Epoch 23/300\n",
            "124/124 [==============================] - 3s 26ms/step - loss: 6.3459\n",
            "Epoch 24/300\n",
            "124/124 [==============================] - 3s 26ms/step - loss: 6.3218\n",
            "Epoch 25/300\n",
            "124/124 [==============================] - 3s 28ms/step - loss: 6.2929\n",
            "Epoch 26/300\n",
            "124/124 [==============================] - 3s 26ms/step - loss: 6.2601\n",
            "Epoch 27/300\n",
            "124/124 [==============================] - 3s 26ms/step - loss: 6.2311\n",
            "Epoch 28/300\n",
            "124/124 [==============================] - 3s 26ms/step - loss: 6.1900\n",
            "Epoch 29/300\n",
            "124/124 [==============================] - 3s 28ms/step - loss: 6.1641\n",
            "Epoch 30/300\n",
            "124/124 [==============================] - 3s 26ms/step - loss: 6.1153\n",
            "Epoch 31/300\n",
            "124/124 [==============================] - 3s 26ms/step - loss: 6.0867\n",
            "Epoch 32/300\n",
            "124/124 [==============================] - 3s 26ms/step - loss: 6.0509\n",
            "Epoch 33/300\n",
            "124/124 [==============================] - 3s 27ms/step - loss: 6.0196\n",
            "Epoch 34/300\n",
            "124/124 [==============================] - 3s 26ms/step - loss: 5.9958\n",
            "Epoch 35/300\n",
            "124/124 [==============================] - 3s 27ms/step - loss: 5.9957\n",
            "Epoch 36/300\n",
            "124/124 [==============================] - 3s 27ms/step - loss: 5.9521\n",
            "Epoch 37/300\n",
            "124/124 [==============================] - 3s 28ms/step - loss: 5.9232\n",
            "Epoch 38/300\n",
            "124/124 [==============================] - 3s 26ms/step - loss: 5.8914\n",
            "Epoch 39/300\n",
            "124/124 [==============================] - 3s 27ms/step - loss: 5.8717\n",
            "Epoch 40/300\n",
            "124/124 [==============================] - 3s 27ms/step - loss: 5.8526\n",
            "Epoch 41/300\n",
            "124/124 [==============================] - 3s 27ms/step - loss: 5.8308\n",
            "Epoch 42/300\n",
            "124/124 [==============================] - 3s 26ms/step - loss: 5.8063\n",
            "Epoch 43/300\n",
            "124/124 [==============================] - 3s 27ms/step - loss: 5.7854\n",
            "Epoch 44/300\n",
            "124/124 [==============================] - 3s 28ms/step - loss: 6.2839\n",
            "Epoch 45/300\n",
            "124/124 [==============================] - 3s 27ms/step - loss: 8.4730\n",
            "Epoch 46/300\n",
            "124/124 [==============================] - 3s 27ms/step - loss: 7.4393\n",
            "Epoch 47/300\n",
            "124/124 [==============================] - 3s 26ms/step - loss: 6.5395\n",
            "Epoch 48/300\n",
            "124/124 [==============================] - 3s 27ms/step - loss: 6.4192\n",
            "Epoch 49/300\n",
            "124/124 [==============================] - 3s 27ms/step - loss: 6.3955\n",
            "Epoch 50/300\n",
            "124/124 [==============================] - 3s 27ms/step - loss: 6.3855\n",
            "Epoch 51/300\n",
            "124/124 [==============================] - 3s 27ms/step - loss: 6.3787\n",
            "Epoch 52/300\n",
            "124/124 [==============================] - 3s 28ms/step - loss: 6.3733\n",
            "Epoch 53/300\n",
            "124/124 [==============================] - 3s 27ms/step - loss: 6.3690\n",
            "Epoch 54/300\n",
            "124/124 [==============================] - 3s 27ms/step - loss: 6.3642\n",
            "Epoch 55/300\n",
            "124/124 [==============================] - 3s 27ms/step - loss: 6.3603\n",
            "Epoch 56/300\n",
            "124/124 [==============================] - 3s 28ms/step - loss: 6.3550\n",
            "Epoch 57/300\n",
            "124/124 [==============================] - 3s 27ms/step - loss: 6.3502\n",
            "Epoch 58/300\n",
            "124/124 [==============================] - 3s 27ms/step - loss: 6.3446\n",
            "Epoch 59/300\n",
            "124/124 [==============================] - 3s 27ms/step - loss: 6.3374\n",
            "Epoch 60/300\n",
            "124/124 [==============================] - 4s 29ms/step - loss: 6.3274\n",
            "Epoch 61/300\n",
            "124/124 [==============================] - 3s 27ms/step - loss: 6.3136\n",
            "Epoch 62/300\n",
            "124/124 [==============================] - 3s 27ms/step - loss: 6.2982\n",
            "Epoch 63/300\n",
            "124/124 [==============================] - 3s 27ms/step - loss: 6.2766\n",
            "Epoch 64/300\n",
            "124/124 [==============================] - 3s 28ms/step - loss: 6.2689\n",
            "Epoch 65/300\n",
            "124/124 [==============================] - 3s 27ms/step - loss: 6.2253\n",
            "Epoch 66/300\n",
            "124/124 [==============================] - 3s 27ms/step - loss: 6.1554\n",
            "Epoch 67/300\n",
            "124/124 [==============================] - 3s 27ms/step - loss: 6.2425\n",
            "Epoch 68/300\n",
            "124/124 [==============================] - 3s 28ms/step - loss: 6.1870\n",
            "Epoch 69/300\n",
            "124/124 [==============================] - 3s 27ms/step - loss: 6.1198\n",
            "Epoch 70/300\n",
            "124/124 [==============================] - 3s 27ms/step - loss: 6.3303\n",
            "Epoch 71/300\n",
            "124/124 [==============================] - 3s 27ms/step - loss: 6.1399\n",
            "Epoch 72/300\n",
            "124/124 [==============================] - 3s 28ms/step - loss: 6.0705\n",
            "Epoch 73/300\n",
            "124/124 [==============================] - 3s 27ms/step - loss: 6.0317\n",
            "Epoch 74/300\n",
            "124/124 [==============================] - 3s 27ms/step - loss: 6.0073\n",
            "Epoch 75/300\n",
            "124/124 [==============================] - 3s 28ms/step - loss: 5.9819\n",
            "Epoch 76/300\n",
            "124/124 [==============================] - 3s 27ms/step - loss: 5.9551\n",
            "Epoch 77/300\n",
            "124/124 [==============================] - 3s 27ms/step - loss: 5.9485\n",
            "Epoch 78/300\n",
            "124/124 [==============================] - 3s 27ms/step - loss: 5.9107\n",
            "Epoch 79/300\n",
            "124/124 [==============================] - 3s 28ms/step - loss: 5.8811\n",
            "Epoch 80/300\n",
            "124/124 [==============================] - 3s 27ms/step - loss: 5.8614\n",
            "Epoch 81/300\n",
            "124/124 [==============================] - 3s 27ms/step - loss: 5.8340\n",
            "Epoch 82/300\n",
            "124/124 [==============================] - 3s 27ms/step - loss: 5.8141\n",
            "Epoch 83/300\n",
            "124/124 [==============================] - 4s 28ms/step - loss: 5.7859\n",
            "Epoch 84/300\n",
            "124/124 [==============================] - 3s 27ms/step - loss: 5.7646\n",
            "Epoch 85/300\n",
            "124/124 [==============================] - 3s 27ms/step - loss: 6.1071\n",
            "Epoch 86/300\n",
            "124/124 [==============================] - 3s 28ms/step - loss: 6.2337\n",
            "Epoch 87/300\n",
            "124/124 [==============================] - 4s 28ms/step - loss: 6.1563\n",
            "Epoch 88/300\n",
            "124/124 [==============================] - 3s 27ms/step - loss: 6.1089\n",
            "Epoch 89/300\n",
            "124/124 [==============================] - 3s 27ms/step - loss: 6.0729\n",
            "Epoch 90/300\n",
            "124/124 [==============================] - 3s 28ms/step - loss: 6.0350\n",
            "Epoch 91/300\n",
            "124/124 [==============================] - 3s 28ms/step - loss: 6.0181\n",
            "Epoch 92/300\n",
            "124/124 [==============================] - 3s 27ms/step - loss: 5.9729\n",
            "Epoch 93/300\n",
            "124/124 [==============================] - 3s 27ms/step - loss: 5.9192\n",
            "Epoch 94/300\n",
            "124/124 [==============================] - 3s 28ms/step - loss: 5.8721\n",
            "Epoch 95/300\n",
            "124/124 [==============================] - 3s 28ms/step - loss: 5.8250\n",
            "Epoch 96/300\n",
            "124/124 [==============================] - 3s 27ms/step - loss: 5.7920\n",
            "Epoch 97/300\n",
            "124/124 [==============================] - 3s 27ms/step - loss: 5.7594\n",
            "Epoch 98/300\n",
            "124/124 [==============================] - 4s 29ms/step - loss: 5.7321\n",
            "Epoch 99/300\n",
            "124/124 [==============================] - 3s 27ms/step - loss: 5.8169\n",
            "Epoch 100/300\n",
            "124/124 [==============================] - 3s 27ms/step - loss: 5.8016\n",
            "Epoch 101/300\n",
            "124/124 [==============================] - 3s 28ms/step - loss: 5.7154\n",
            "Epoch 102/300\n",
            "124/124 [==============================] - 4s 28ms/step - loss: 5.7667\n",
            "Epoch 103/300\n",
            "124/124 [==============================] - 3s 27ms/step - loss: 5.6651\n",
            "Epoch 104/300\n",
            "124/124 [==============================] - 3s 28ms/step - loss: 5.6344\n",
            "Epoch 105/300\n",
            "124/124 [==============================] - 3s 28ms/step - loss: 5.6231\n",
            "Epoch 106/300\n",
            "124/124 [==============================] - 4s 28ms/step - loss: 5.5880\n",
            "Epoch 107/300\n",
            "124/124 [==============================] - 3s 27ms/step - loss: 5.5665\n",
            "Epoch 108/300\n",
            "124/124 [==============================] - 3s 27ms/step - loss: 5.5419\n",
            "Epoch 109/300\n",
            "124/124 [==============================] - 3s 28ms/step - loss: 5.5171\n",
            "Epoch 110/300\n",
            "124/124 [==============================] - 3s 27ms/step - loss: 5.4922\n",
            "Epoch 111/300\n",
            "124/124 [==============================] - 3s 27ms/step - loss: 5.4688\n",
            "Epoch 112/300\n",
            "124/124 [==============================] - 3s 27ms/step - loss: 5.5978\n",
            "Epoch 113/300\n",
            "124/124 [==============================] - 4s 28ms/step - loss: 5.4556\n",
            "Epoch 114/300\n",
            "124/124 [==============================] - 3s 28ms/step - loss: 5.4193\n",
            "Epoch 115/300\n",
            "124/124 [==============================] - 3s 27ms/step - loss: 5.3996\n",
            "Epoch 116/300\n",
            "124/124 [==============================] - 3s 27ms/step - loss: 5.3741\n",
            "Epoch 117/300\n",
            "124/124 [==============================] - 4s 29ms/step - loss: 5.3461\n",
            "Epoch 118/300\n",
            "124/124 [==============================] - 3s 27ms/step - loss: 5.3289\n",
            "Epoch 119/300\n",
            "124/124 [==============================] - 3s 27ms/step - loss: 5.6456\n",
            "Epoch 120/300\n",
            "124/124 [==============================] - 3s 28ms/step - loss: 5.3910\n",
            "Epoch 121/300\n",
            "124/124 [==============================] - 4s 28ms/step - loss: 5.3215\n",
            "Epoch 122/300\n",
            "124/124 [==============================] - 3s 27ms/step - loss: 5.2904\n",
            "Epoch 123/300\n",
            "124/124 [==============================] - 3s 27ms/step - loss: 5.2606\n",
            "Epoch 124/300\n",
            "124/124 [==============================] - 3s 28ms/step - loss: 5.3002\n",
            "Epoch 125/300\n",
            "124/124 [==============================] - 3s 28ms/step - loss: 5.3288\n",
            "Epoch 126/300\n",
            "124/124 [==============================] - 3s 27ms/step - loss: 5.4862\n",
            "Epoch 127/300\n",
            "124/124 [==============================] - 3s 27ms/step - loss: 5.4148\n",
            "Epoch 128/300\n",
            "124/124 [==============================] - 4s 29ms/step - loss: 5.2688\n",
            "Epoch 129/300\n",
            "124/124 [==============================] - 3s 28ms/step - loss: 5.2290\n",
            "Epoch 130/300\n",
            "124/124 [==============================] - 3s 27ms/step - loss: 5.1923\n",
            "Epoch 131/300\n",
            "124/124 [==============================] - 3s 27ms/step - loss: 5.1729\n",
            "Epoch 132/300\n",
            "124/124 [==============================] - 3s 28ms/step - loss: 5.1531\n",
            "Epoch 133/300\n",
            "124/124 [==============================] - 3s 28ms/step - loss: 5.1347\n",
            "Epoch 134/300\n",
            "124/124 [==============================] - 3s 27ms/step - loss: 5.1103\n",
            "Epoch 135/300\n",
            "124/124 [==============================] - 3s 28ms/step - loss: 5.0975\n",
            "Epoch 136/300\n",
            "124/124 [==============================] - 4s 28ms/step - loss: 5.0800\n",
            "Epoch 137/300\n",
            "124/124 [==============================] - 3s 27ms/step - loss: 5.0678\n",
            "Epoch 138/300\n",
            "124/124 [==============================] - 3s 28ms/step - loss: 5.0568\n",
            "Epoch 139/300\n",
            "124/124 [==============================] - 4s 28ms/step - loss: 5.0386\n",
            "Epoch 140/300\n",
            "124/124 [==============================] - 3s 28ms/step - loss: 5.0115\n",
            "Epoch 141/300\n",
            "124/124 [==============================] - 3s 27ms/step - loss: 5.0038\n",
            "Epoch 142/300\n",
            "124/124 [==============================] - 3s 27ms/step - loss: 4.9921\n",
            "Epoch 143/300\n",
            "124/124 [==============================] - 4s 28ms/step - loss: 4.9783\n",
            "Epoch 144/300\n",
            "124/124 [==============================] - 3s 28ms/step - loss: 4.9658\n",
            "Epoch 145/300\n",
            "124/124 [==============================] - 3s 27ms/step - loss: 4.9540\n",
            "Epoch 146/300\n",
            "124/124 [==============================] - 3s 28ms/step - loss: 5.7462\n",
            "Epoch 147/300\n",
            "124/124 [==============================] - 4s 29ms/step - loss: 5.2464\n",
            "Epoch 148/300\n",
            "124/124 [==============================] - 3s 28ms/step - loss: 5.0577\n",
            "Epoch 149/300\n",
            "124/124 [==============================] - 3s 27ms/step - loss: 4.9896\n",
            "Epoch 150/300\n",
            "124/124 [==============================] - 3s 28ms/step - loss: 4.9679\n",
            "Epoch 151/300\n",
            "124/124 [==============================] - 4s 29ms/step - loss: 4.9414\n",
            "Epoch 152/300\n",
            "124/124 [==============================] - 3s 27ms/step - loss: 5.9648\n",
            "Epoch 153/300\n",
            "124/124 [==============================] - 3s 27ms/step - loss: 5.6399\n",
            "Epoch 154/300\n",
            "124/124 [==============================] - 3s 28ms/step - loss: 5.3712\n",
            "Epoch 155/300\n",
            "124/124 [==============================] - 4s 29ms/step - loss: 5.2394\n",
            "Epoch 156/300\n",
            "124/124 [==============================] - 3s 28ms/step - loss: 5.1667\n",
            "Epoch 157/300\n",
            "124/124 [==============================] - 3s 27ms/step - loss: 5.1094\n",
            "Epoch 158/300\n",
            "124/124 [==============================] - 3s 28ms/step - loss: 5.0705\n",
            "Epoch 159/300\n",
            "124/124 [==============================] - 3s 28ms/step - loss: 5.0303\n",
            "Epoch 160/300\n",
            "124/124 [==============================] - 3s 28ms/step - loss: 5.0006\n",
            "Epoch 161/300\n",
            "124/124 [==============================] - 3s 28ms/step - loss: 4.9617\n",
            "Epoch 162/300\n",
            "124/124 [==============================] - 3s 28ms/step - loss: 4.9553\n",
            "Epoch 163/300\n",
            "124/124 [==============================] - 3s 28ms/step - loss: 4.9330\n",
            "Epoch 164/300\n",
            "124/124 [==============================] - 3s 27ms/step - loss: 4.9138\n",
            "Epoch 165/300\n",
            "124/124 [==============================] - 3s 28ms/step - loss: 4.9028\n",
            "Epoch 166/300\n",
            "124/124 [==============================] - 4s 28ms/step - loss: 4.8820\n",
            "Epoch 167/300\n",
            "124/124 [==============================] - 3s 28ms/step - loss: 4.8642\n",
            "Epoch 168/300\n",
            "124/124 [==============================] - 3s 28ms/step - loss: 4.8522\n",
            "Epoch 169/300\n",
            "124/124 [==============================] - 3s 28ms/step - loss: 4.8486\n",
            "Epoch 170/300\n",
            "124/124 [==============================] - 3s 28ms/step - loss: 4.8196\n",
            "Epoch 171/300\n",
            "124/124 [==============================] - 3s 28ms/step - loss: 4.8051\n",
            "Epoch 172/300\n",
            "124/124 [==============================] - 3s 28ms/step - loss: 4.8038\n",
            "Epoch 173/300\n",
            "124/124 [==============================] - 3s 28ms/step - loss: 4.7932\n",
            "Epoch 174/300\n",
            "124/124 [==============================] - 4s 28ms/step - loss: 4.7781\n",
            "Epoch 175/300\n",
            "124/124 [==============================] - 3s 27ms/step - loss: 4.7665\n",
            "Epoch 176/300\n",
            "124/124 [==============================] - 3s 28ms/step - loss: 4.7591\n",
            "Epoch 177/300\n",
            "124/124 [==============================] - 4s 29ms/step - loss: 4.7471\n",
            "Epoch 178/300\n",
            "124/124 [==============================] - 3s 28ms/step - loss: 4.7361\n",
            "Epoch 179/300\n",
            "124/124 [==============================] - 3s 28ms/step - loss: 4.7282\n",
            "Epoch 180/300\n",
            "124/124 [==============================] - 3s 27ms/step - loss: 4.7203\n",
            "Epoch 181/300\n",
            "124/124 [==============================] - 4s 29ms/step - loss: 4.7021\n",
            "Epoch 182/300\n",
            "124/124 [==============================] - 3s 28ms/step - loss: 4.6970\n",
            "Epoch 183/300\n",
            "124/124 [==============================] - 3s 27ms/step - loss: 4.6779\n",
            "Epoch 184/300\n",
            "124/124 [==============================] - 3s 28ms/step - loss: 4.6703\n",
            "Epoch 185/300\n",
            "124/124 [==============================] - 4s 29ms/step - loss: 4.6635\n",
            "Epoch 186/300\n",
            "124/124 [==============================] - 3s 28ms/step - loss: 4.6598\n",
            "Epoch 187/300\n",
            "124/124 [==============================] - 3s 28ms/step - loss: 4.6452\n",
            "Epoch 188/300\n",
            "124/124 [==============================] - 3s 28ms/step - loss: 5.3420\n",
            "Epoch 189/300\n",
            "124/124 [==============================] - 4s 28ms/step - loss: 4.9414\n",
            "Epoch 190/300\n",
            "124/124 [==============================] - 3s 28ms/step - loss: 4.7367\n",
            "Epoch 191/300\n",
            "124/124 [==============================] - 3s 28ms/step - loss: 4.6810\n",
            "Epoch 192/300\n",
            "124/124 [==============================] - 4s 28ms/step - loss: 4.8308\n",
            "Epoch 193/300\n",
            "124/124 [==============================] - 3s 28ms/step - loss: 4.6856\n",
            "Epoch 194/300\n",
            "124/124 [==============================] - 3s 28ms/step - loss: 4.6502\n",
            "Epoch 195/300\n",
            "124/124 [==============================] - 3s 28ms/step - loss: 4.6291\n",
            "Epoch 196/300\n",
            "124/124 [==============================] - 4s 29ms/step - loss: 4.6085\n",
            "Epoch 197/300\n",
            "124/124 [==============================] - 3s 27ms/step - loss: 4.6005\n",
            "Epoch 198/300\n",
            "124/124 [==============================] - 3s 27ms/step - loss: 4.5898\n",
            "Epoch 199/300\n",
            "124/124 [==============================] - 3s 28ms/step - loss: 4.5765\n",
            "Epoch 200/300\n",
            "124/124 [==============================] - 4s 28ms/step - loss: 4.5592\n",
            "Epoch 201/300\n",
            "124/124 [==============================] - 3s 28ms/step - loss: 4.5620\n",
            "Epoch 202/300\n",
            "124/124 [==============================] - 3s 28ms/step - loss: 4.5558\n",
            "Epoch 203/300\n",
            "124/124 [==============================] - 4s 29ms/step - loss: 4.5357\n",
            "Epoch 204/300\n",
            "124/124 [==============================] - 3s 28ms/step - loss: 4.5344\n",
            "Epoch 205/300\n",
            "124/124 [==============================] - 3s 28ms/step - loss: 4.5250\n",
            "Epoch 206/300\n",
            "124/124 [==============================] - 3s 28ms/step - loss: 4.5197\n",
            "Epoch 207/300\n",
            "124/124 [==============================] - 4s 29ms/step - loss: 4.5133\n",
            "Epoch 208/300\n",
            "124/124 [==============================] - 3s 28ms/step - loss: 4.5010\n",
            "Epoch 209/300\n",
            "124/124 [==============================] - 3s 27ms/step - loss: 4.4954\n",
            "Epoch 210/300\n",
            "124/124 [==============================] - 3s 28ms/step - loss: 4.4921\n",
            "Epoch 211/300\n",
            "124/124 [==============================] - 4s 29ms/step - loss: 4.4837\n",
            "Epoch 212/300\n",
            "124/124 [==============================] - 3s 27ms/step - loss: 4.4693\n",
            "Epoch 213/300\n",
            "124/124 [==============================] - 3s 28ms/step - loss: 4.4710\n",
            "Epoch 214/300\n",
            "124/124 [==============================] - 3s 28ms/step - loss: 4.4667\n",
            "Epoch 215/300\n",
            "124/124 [==============================] - 4s 28ms/step - loss: 4.4568\n",
            "Epoch 216/300\n",
            "124/124 [==============================] - 3s 28ms/step - loss: 4.4498\n",
            "Epoch 217/300\n",
            "124/124 [==============================] - 3s 28ms/step - loss: 4.4412\n",
            "Epoch 218/300\n",
            "124/124 [==============================] - 3s 28ms/step - loss: 4.4290\n",
            "Epoch 219/300\n",
            "124/124 [==============================] - 4s 28ms/step - loss: 4.4236\n",
            "Epoch 220/300\n",
            "124/124 [==============================] - 3s 28ms/step - loss: 4.4286\n",
            "Epoch 221/300\n",
            "124/124 [==============================] - 3s 28ms/step - loss: 4.4184\n",
            "Epoch 222/300\n",
            "124/124 [==============================] - 4s 29ms/step - loss: 4.4045\n",
            "Epoch 223/300\n",
            "124/124 [==============================] - 3s 28ms/step - loss: 4.4007\n",
            "Epoch 224/300\n",
            "124/124 [==============================] - 3s 28ms/step - loss: 4.3943\n",
            "Epoch 225/300\n",
            "124/124 [==============================] - 3s 28ms/step - loss: 4.3929\n",
            "Epoch 226/300\n",
            "124/124 [==============================] - 4s 29ms/step - loss: 4.5073\n",
            "Epoch 227/300\n",
            "124/124 [==============================] - 3s 28ms/step - loss: 4.5060\n",
            "Epoch 228/300\n",
            "124/124 [==============================] - 3s 28ms/step - loss: 4.4213\n",
            "Epoch 229/300\n",
            "124/124 [==============================] - 3s 28ms/step - loss: 4.3943\n",
            "Epoch 230/300\n",
            "124/124 [==============================] - 4s 28ms/step - loss: 4.3924\n",
            "Epoch 231/300\n",
            "124/124 [==============================] - 3s 28ms/step - loss: 4.3609\n",
            "Epoch 232/300\n",
            "124/124 [==============================] - 3s 28ms/step - loss: 4.3696\n",
            "Epoch 233/300\n",
            "124/124 [==============================] - 4s 29ms/step - loss: 4.3560\n",
            "Epoch 234/300\n",
            "124/124 [==============================] - 3s 28ms/step - loss: 4.3478\n",
            "Epoch 235/300\n",
            "124/124 [==============================] - 3s 28ms/step - loss: 4.3441\n",
            "Epoch 236/300\n",
            "124/124 [==============================] - 3s 28ms/step - loss: 4.3362\n",
            "Epoch 237/300\n",
            "124/124 [==============================] - 4s 29ms/step - loss: 4.3219\n",
            "Epoch 238/300\n",
            "124/124 [==============================] - 3s 28ms/step - loss: 4.3287\n",
            "Epoch 239/300\n",
            "124/124 [==============================] - 3s 28ms/step - loss: 4.3162\n",
            "Epoch 240/300\n",
            "124/124 [==============================] - 3s 28ms/step - loss: 4.3109\n",
            "Epoch 241/300\n",
            "124/124 [==============================] - 4s 29ms/step - loss: 4.3115\n",
            "Epoch 242/300\n",
            "124/124 [==============================] - 3s 28ms/step - loss: 4.2984\n",
            "Epoch 243/300\n",
            "124/124 [==============================] - 3s 28ms/step - loss: 4.2936\n",
            "Epoch 244/300\n",
            "124/124 [==============================] - 4s 28ms/step - loss: 4.2876\n",
            "Epoch 245/300\n",
            "124/124 [==============================] - 4s 29ms/step - loss: 4.2979\n",
            "Epoch 246/300\n",
            "124/124 [==============================] - 3s 28ms/step - loss: 4.2714\n",
            "Epoch 247/300\n",
            "124/124 [==============================] - 3s 28ms/step - loss: 4.2791\n",
            "Epoch 248/300\n",
            "124/124 [==============================] - 4s 29ms/step - loss: 4.2646\n",
            "Epoch 249/300\n",
            "124/124 [==============================] - 3s 28ms/step - loss: 4.2592\n",
            "Epoch 250/300\n",
            "124/124 [==============================] - 3s 28ms/step - loss: 4.2686\n",
            "Epoch 251/300\n",
            "124/124 [==============================] - 3s 28ms/step - loss: 4.2524\n",
            "Epoch 252/300\n",
            "124/124 [==============================] - 4s 30ms/step - loss: 4.2567\n",
            "Epoch 253/300\n",
            "124/124 [==============================] - 3s 28ms/step - loss: 4.2453\n",
            "Epoch 254/300\n",
            "124/124 [==============================] - 3s 28ms/step - loss: 4.2393\n",
            "Epoch 255/300\n",
            "124/124 [==============================] - 3s 28ms/step - loss: 4.2432\n",
            "Epoch 256/300\n",
            "124/124 [==============================] - 4s 28ms/step - loss: 4.2302\n",
            "Epoch 257/300\n",
            "124/124 [==============================] - 3s 28ms/step - loss: 4.2358\n",
            "Epoch 258/300\n",
            "124/124 [==============================] - 3s 28ms/step - loss: 4.2298\n",
            "Epoch 259/300\n",
            "124/124 [==============================] - 4s 28ms/step - loss: 4.2197\n",
            "Epoch 260/300\n",
            "124/124 [==============================] - 4s 28ms/step - loss: 4.2137\n",
            "Epoch 261/300\n",
            "124/124 [==============================] - 3s 28ms/step - loss: 4.2127\n",
            "Epoch 262/300\n",
            "124/124 [==============================] - 3s 27ms/step - loss: 4.2085\n",
            "Epoch 263/300\n",
            "124/124 [==============================] - 3s 28ms/step - loss: 4.2023\n",
            "Epoch 264/300\n",
            "124/124 [==============================] - 4s 29ms/step - loss: 4.1985\n",
            "Epoch 265/300\n",
            "124/124 [==============================] - 3s 28ms/step - loss: 4.1874\n",
            "Epoch 266/300\n",
            "124/124 [==============================] - 3s 28ms/step - loss: 4.1862\n",
            "Epoch 267/300\n",
            "124/124 [==============================] - 4s 28ms/step - loss: 4.1803\n",
            "Epoch 268/300\n",
            "124/124 [==============================] - 3s 28ms/step - loss: 4.1786\n",
            "Epoch 269/300\n",
            "124/124 [==============================] - 3s 28ms/step - loss: 4.1731\n",
            "Epoch 270/300\n",
            "124/124 [==============================] - 3s 28ms/step - loss: 4.1673\n",
            "Epoch 271/300\n",
            "124/124 [==============================] - 4s 29ms/step - loss: 4.1641\n",
            "Epoch 272/300\n",
            "124/124 [==============================] - 3s 28ms/step - loss: 4.1620\n",
            "Epoch 273/300\n",
            "124/124 [==============================] - 3s 28ms/step - loss: 4.1513\n",
            "Epoch 274/300\n",
            "124/124 [==============================] - 3s 28ms/step - loss: 4.1550\n",
            "Epoch 275/300\n",
            "124/124 [==============================] - 4s 29ms/step - loss: 4.1536\n",
            "Epoch 276/300\n",
            "124/124 [==============================] - 3s 28ms/step - loss: 4.1426\n",
            "Epoch 277/300\n",
            "124/124 [==============================] - 3s 28ms/step - loss: 4.1402\n",
            "Epoch 278/300\n",
            "124/124 [==============================] - 4s 28ms/step - loss: 4.1349\n",
            "Epoch 279/300\n",
            "124/124 [==============================] - 4s 29ms/step - loss: 4.1307\n",
            "Epoch 280/300\n",
            "124/124 [==============================] - 3s 28ms/step - loss: 4.1210\n",
            "Epoch 281/300\n",
            "124/124 [==============================] - 3s 28ms/step - loss: 4.1254\n",
            "Epoch 282/300\n",
            "124/124 [==============================] - 4s 29ms/step - loss: 4.1222\n",
            "Epoch 283/300\n",
            "124/124 [==============================] - 4s 28ms/step - loss: 4.1102\n",
            "Epoch 284/300\n",
            "124/124 [==============================] - 3s 28ms/step - loss: 4.1138\n",
            "Epoch 285/300\n",
            "124/124 [==============================] - 3s 28ms/step - loss: 4.1019\n",
            "Epoch 286/300\n",
            "124/124 [==============================] - 4s 29ms/step - loss: 4.1043\n",
            "Epoch 287/300\n",
            "124/124 [==============================] - 3s 28ms/step - loss: 4.1039\n",
            "Epoch 288/300\n",
            "124/124 [==============================] - 3s 28ms/step - loss: 4.0968\n",
            "Epoch 289/300\n",
            "124/124 [==============================] - 3s 28ms/step - loss: 4.0970\n",
            "Epoch 290/300\n",
            "124/124 [==============================] - 4s 29ms/step - loss: 4.1000\n",
            "Epoch 291/300\n",
            "124/124 [==============================] - 3s 28ms/step - loss: 4.0956\n",
            "Epoch 292/300\n",
            "124/124 [==============================] - 3s 28ms/step - loss: 4.0691\n",
            "Epoch 293/300\n",
            "124/124 [==============================] - 4s 29ms/step - loss: 4.0755\n",
            "Epoch 294/300\n",
            "124/124 [==============================] - 4s 29ms/step - loss: 4.0831\n",
            "Epoch 295/300\n",
            "124/124 [==============================] - 3s 28ms/step - loss: 4.0700\n",
            "Epoch 296/300\n",
            "124/124 [==============================] - 3s 28ms/step - loss: 4.0668\n",
            "Epoch 297/300\n",
            "124/124 [==============================] - 4s 29ms/step - loss: 4.0615\n",
            "Epoch 298/300\n",
            "124/124 [==============================] - 3s 28ms/step - loss: 4.0656\n",
            "Epoch 299/300\n",
            "124/124 [==============================] - 3s 28ms/step - loss: 4.0604\n",
            "Epoch 300/300\n",
            "124/124 [==============================] - 3s 28ms/step - loss: 4.0469\n"
          ]
        },
        {
          "output_type": "execute_result",
          "data": {
            "text/plain": [
              "<keras.callbacks.History at 0x7f9ee18bc310>"
            ]
          },
          "metadata": {},
          "execution_count": 19
        }
      ]
    },
    {
      "cell_type": "code",
      "source": [
        "x_test.shape"
      ],
      "metadata": {
        "id": "rxE1j7ZqyqIY",
        "colab": {
          "base_uri": "https://localhost:8080/"
        },
        "outputId": "ba8366e9-e5a0-4586-bdcf-383ec99b480e"
      },
      "execution_count": 20,
      "outputs": [
        {
          "output_type": "execute_result",
          "data": {
            "text/plain": [
              "(977, 300)"
            ]
          },
          "metadata": {},
          "execution_count": 20
        }
      ]
    },
    {
      "cell_type": "code",
      "source": [
        "\n",
        "pred=model.predict(x_test.reshape(-1,300,1))\n",
        "from sklearn.metrics import accuracy_score\n",
        "y_true=[ np.argmax(z) for z in y_test]\n",
        "y_pred= [np.argmax(x) for x in pred]\n",
        "acc=accuracy_score(y_pred,y_true)"
      ],
      "metadata": {
        "colab": {
          "base_uri": "https://localhost:8080/"
        },
        "id": "qQoJMD2HybsW",
        "outputId": "63359fa0-7394-4545-aff8-5eb05e0c4c71"
      },
      "execution_count": 21,
      "outputs": [
        {
          "output_type": "stream",
          "name": "stdout",
          "text": [
            "31/31 [==============================] - 1s 7ms/step\n"
          ]
        }
      ]
    },
    {
      "cell_type": "code",
      "source": [
        "acc*100"
      ],
      "metadata": {
        "colab": {
          "base_uri": "https://localhost:8080/"
        },
        "id": "5fscUBm4mxzW",
        "outputId": "55fd4f10-6873-4fea-8bca-a85d5e609375"
      },
      "execution_count": 22,
      "outputs": [
        {
          "output_type": "execute_result",
          "data": {
            "text/plain": [
              "11.975435005117706"
            ]
          },
          "metadata": {},
          "execution_count": 22
        }
      ]
    }
  ]
}